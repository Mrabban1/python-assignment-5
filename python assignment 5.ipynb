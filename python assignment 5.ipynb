{
 "cells": [
  {
   "cell_type": "markdown",
   "id": "64b393ef-fab8-4c2c-98d7-3d4ee04b49fd",
   "metadata": {},
   "source": [
    "1. What does an empty dictionary&#39;s code look like?"
   ]
  },
  {
   "cell_type": "code",
   "execution_count": 2,
   "id": "77ca8b5b-4d5b-48af-8473-bcf405ba7882",
   "metadata": {},
   "outputs": [
    {
     "name": "stdout",
     "output_type": "stream",
     "text": [
      "{}\n"
     ]
    }
   ],
   "source": [
    "empty_dict = dict()\n",
    "print(empty_dict)"
   ]
  },
  {
   "cell_type": "markdown",
   "id": "e5b544a9-7e9f-4835-aa91-feb0af73fbf9",
   "metadata": {},
   "source": [
    "2. What is the value of a dictionary value with the key &#39;foo&#39; and the value 42?"
   ]
  },
  {
   "cell_type": "code",
   "execution_count": 5,
   "id": "98bcd146-2b1d-4695-9ee7-7780323853e6",
   "metadata": {},
   "outputs": [],
   "source": [
    "dict = {'foo': 42}"
   ]
  },
  {
   "cell_type": "markdown",
   "id": "679cced3-61f4-44ae-832b-cf6bbf8b5b1f",
   "metadata": {},
   "source": [
    "3. What is the most significant distinction between a dictionary and a list?"
   ]
  },
  {
   "cell_type": "markdown",
   "id": "8173d425-a943-4b38-b2c5-db0ddd30134a",
   "metadata": {},
   "source": [
    "Ans: In list element are ordered and dictionary element are not in ordered,\n",
    "\n",
    "element in a list must be accessed using numerical indices but in dictionary element are imdexed using key."
   ]
  },
  {
   "cell_type": "markdown",
   "id": "dde352b5-706b-41f7-a08c-7c5197d2bc4a",
   "metadata": {},
   "source": [
    "4. What happens if you try to access spam[&#39;foo&#39;] if spam is {&#39;bar&#39;: 100}?"
   ]
  },
  {
   "cell_type": "code",
   "execution_count": 10,
   "id": "6e4af63f-5d8d-4ea4-96f8-d99ac4b07fcf",
   "metadata": {},
   "outputs": [
    {
     "ename": "KeyError",
     "evalue": "'foo'",
     "output_type": "error",
     "traceback": [
      "\u001b[1;31m---------------------------------------------------------------------------\u001b[0m",
      "\u001b[1;31mKeyError\u001b[0m                                  Traceback (most recent call last)",
      "Cell \u001b[1;32mIn[10], line 2\u001b[0m\n\u001b[0;32m      1\u001b[0m spam \u001b[38;5;241m=\u001b[39m {\u001b[38;5;124m'\u001b[39m\u001b[38;5;124mbar\u001b[39m\u001b[38;5;124m'\u001b[39m: \u001b[38;5;241m100\u001b[39m}\n\u001b[1;32m----> 2\u001b[0m spam[\u001b[38;5;124m'\u001b[39m\u001b[38;5;124mfoo\u001b[39m\u001b[38;5;124m'\u001b[39m]\n",
      "\u001b[1;31mKeyError\u001b[0m: 'foo'"
     ]
    }
   ],
   "source": [
    "spam = {'bar': 100}\n",
    "spam['foo']"
   ]
  },
  {
   "cell_type": "markdown",
   "id": "c1cbb36e-d28d-4b12-8e46-faf01f9ea17a",
   "metadata": {},
   "source": [
    "this will give us error."
   ]
  },
  {
   "cell_type": "markdown",
   "id": "847c093c-57cb-4cdd-b0e8-2d54ff2f7f3c",
   "metadata": {},
   "source": [
    "5. If a dictionary is stored in spam, what is the difference between the expressions &#39;cat&#39; in spam and\n",
    "&#39;cat&#39; in spam.keys()?"
   ]
  },
  {
   "cell_type": "code",
   "execution_count": 21,
   "id": "92df1dbf-c237-4fce-8a8b-1326766863cd",
   "metadata": {},
   "outputs": [
    {
     "data": {
      "text/plain": [
       "True"
      ]
     },
     "execution_count": 21,
     "metadata": {},
     "output_type": "execute_result"
    }
   ],
   "source": [
    "spam = { 'cat': 50}\n",
    "'cat' in spam\n"
   ]
  },
  {
   "cell_type": "code",
   "execution_count": 25,
   "id": "96637f46-0e80-45e2-868d-c0aebab6efac",
   "metadata": {},
   "outputs": [
    {
     "data": {
      "text/plain": [
       "True"
      ]
     },
     "execution_count": 25,
     "metadata": {},
     "output_type": "execute_result"
    }
   ],
   "source": [
    "'cat' in spam.keys()"
   ]
  },
  {
   "cell_type": "markdown",
   "id": "de71438f-fa87-4508-89f7-357b066bf624",
   "metadata": {},
   "source": [
    "There is no difference on this."
   ]
  },
  {
   "cell_type": "markdown",
   "id": "a1b596ba-0c74-4286-96f7-22baa0c9bd63",
   "metadata": {},
   "source": [
    "6. If a dictionary is stored in spam, what is the difference between the expressions &#39;cat&#39; in spam and\n",
    "&#39;cat&#39; in spam.values()?"
   ]
  },
  {
   "cell_type": "code",
   "execution_count": 29,
   "id": "6f70c0c3-1ee3-4b8e-b69f-bb764c50582f",
   "metadata": {},
   "outputs": [
    {
     "data": {
      "text/plain": [
       "True"
      ]
     },
     "execution_count": 29,
     "metadata": {},
     "output_type": "execute_result"
    }
   ],
   "source": [
    "'cat' in spam"
   ]
  },
  {
   "cell_type": "code",
   "execution_count": 31,
   "id": "6db34408-8588-48de-b28f-2ead3ea2a41b",
   "metadata": {},
   "outputs": [
    {
     "data": {
      "text/plain": [
       "False"
      ]
     },
     "execution_count": 31,
     "metadata": {},
     "output_type": "execute_result"
    }
   ],
   "source": [
    "'cat' in spam.values()"
   ]
  },
  {
   "cell_type": "markdown",
   "id": "bc568cc1-1ecb-4d04-8536-79ec57d9ccbf",
   "metadata": {},
   "source": [
    "'cat' in spam checks whether there is 'cat' key in dictonary \n",
    "\n",
    "'cat' in spam.values() checks there is a value 'cat' for one of the keys in spam"
   ]
  },
  {
   "cell_type": "markdown",
   "id": "0e212fec-793f-448f-af22-a8324cef752a",
   "metadata": {},
   "source": [
    "7. What is a shortcut for the following code?\n",
    "\n",
    "if &#39;color&#39; not in spam:\n",
    "\r\n",
    "spam[&#39;color&#39;] = &#39;black&#39;"
   ]
  },
  {
   "cell_type": "code",
   "execution_count": 47,
   "id": "723ed02d-cae4-4fb6-83fd-8ad6702cd556",
   "metadata": {},
   "outputs": [
    {
     "data": {
      "text/plain": [
       "{'name': 'RABBAN', 'color': 'black'}"
      ]
     },
     "execution_count": 47,
     "metadata": {},
     "output_type": "execute_result"
    }
   ],
   "source": [
    "spam = {'name': 'RABBAN'}\n",
    "spam.setdefault('color' ,'black')\n",
    "spam"
   ]
  },
  {
   "cell_type": "markdown",
   "id": "aeb31e80-1f6c-471d-91fd-bd819d826d70",
   "metadata": {},
   "source": [
    "8. How do you &quot;pretty print&quot; dictionary values using which module and function?"
   ]
  },
  {
   "cell_type": "code",
   "execution_count": 66,
   "id": "d2eed147-cf6e-4aec-8b3d-f183eff2ae2b",
   "metadata": {},
   "outputs": [],
   "source": [
    "import pprint\n",
    "dct = [ {'Name': 'rabban', 'Age': '28', 'Country': 'India'},\n",
    "  {'Name': 'chintu', 'Age': '27', 'Country': 'China'},\n",
    "  {'Name': 'deepak', 'Age': '29', 'Country': 'UK'},\n",
    "  {'Name': 'sonu', 'Age': '35', 'Country': 'USA'}\n",
    "]"
   ]
  },
  {
   "cell_type": "code",
   "execution_count": 68,
   "id": "ddfb5f2b-15fe-4eaf-8830-3375270f45ef",
   "metadata": {},
   "outputs": [
    {
     "name": "stdout",
     "output_type": "stream",
     "text": [
      "[{'Age': '28', 'Country': 'India', 'Name': 'rabban'},\n",
      " {'Age': '27', 'Country': 'China', 'Name': 'chintu'},\n",
      " {'Age': '29', 'Country': 'UK', 'Name': 'deepak'},\n",
      " {'Age': '35', 'Country': 'USA', 'Name': 'sonu'}]\n"
     ]
    }
   ],
   "source": [
    "pprint.pprint(dct) #printing with pretty print"
   ]
  },
  {
   "cell_type": "code",
   "execution_count": 72,
   "id": "0084fcc7-ef00-4e8d-8308-4427c45c724b",
   "metadata": {},
   "outputs": [
    {
     "name": "stdout",
     "output_type": "stream",
     "text": [
      "[{'Name': 'rabban', 'Age': '28', 'Country': 'India'}, {'Name': 'chintu', 'Age': '27', 'Country': 'China'}, {'Name': 'deepak', 'Age': '29', 'Country': 'UK'}, {'Name': 'sonu', 'Age': '35', 'Country': 'USA'}]\n"
     ]
    }
   ],
   "source": [
    "print(dct)"
   ]
  },
  {
   "cell_type": "code",
   "execution_count": null,
   "id": "4a31e374-4f5e-4337-807b-12fc3c499dba",
   "metadata": {},
   "outputs": [],
   "source": []
  }
 ],
 "metadata": {
  "kernelspec": {
   "display_name": "Python 3 (ipykernel)",
   "language": "python",
   "name": "python3"
  },
  "language_info": {
   "codemirror_mode": {
    "name": "ipython",
    "version": 3
   },
   "file_extension": ".py",
   "mimetype": "text/x-python",
   "name": "python",
   "nbconvert_exporter": "python",
   "pygments_lexer": "ipython3",
   "version": "3.12.4"
  }
 },
 "nbformat": 4,
 "nbformat_minor": 5
}
